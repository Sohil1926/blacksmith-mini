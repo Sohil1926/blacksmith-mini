{
 "cells": [
  {
   "cell_type": "code",
   "execution_count": 1,
   "id": "6d4b08f4",
   "metadata": {},
   "outputs": [],
   "source": [
    "from backend.orchestrator import VMManager\n",
    "\n",
    "vm_manager = VMManager()\n",
    "queued_jobs = vm_manager.get_queued_jobs()"
   ]
  },
  {
   "cell_type": "code",
   "execution_count": 2,
   "id": "a8497213",
   "metadata": {},
   "outputs": [],
   "source": [
    "runner_token = vm_manager.get_runner_registration_token()"
   ]
  },
  {
   "cell_type": "code",
   "execution_count": 3,
   "id": "761d8292",
   "metadata": {},
   "outputs": [
    {
     "name": "stdout",
     "output_type": "stream",
     "text": [
      "AOXTJTCXGTG2A3PDJATO4LLI73NUA\n"
     ]
    }
   ],
   "source": [
    "print(runner_token)"
   ]
  },
  {
   "cell_type": "code",
   "execution_count": 4,
   "id": "ba7e8eca",
   "metadata": {},
   "outputs": [
    {
     "name": "stdout",
     "output_type": "stream",
     "text": [
      "1\n"
     ]
    }
   ],
   "source": [
    "print(len(queued_jobs))"
   ]
  },
  {
   "cell_type": "code",
   "execution_count": 5,
   "id": "e0505578",
   "metadata": {},
   "outputs": [
    {
     "name": "stdout",
     "output_type": "stream",
     "text": [
      "\n",
      "[VM 1] Starting...\n",
      "[VM 1] Started with IP 172.16.1.2\n",
      "[VM 1] Configuring runner...\n",
      "[VM 1] SSH is ready\n",
      "[VM 1] Removing any existing runner config...\n",
      "[VM 1] Configuring runner...\n",
      "[VM 1] Runner configured successfully\n",
      "[VM 1] Installing shutdown monitor...\n",
      "[VM 1] Disabling runner auto-update...\n",
      "[VM 1] Starting runner...\n",
      "Warning: '--once' is going to be deprecated in the future, please consider using '--ephemeral' during runner registration.\n",
      "https://docs.github.com/en/actions/hosting-your-own-runners/autoscaling-with-self-hosted-runners#using-ephemeral-runners-for-autoscaling\n",
      "\n",
      "√ Connected to GitHub\n",
      "\n",
      "Current runner version: '2.328.0'\n",
      "2025-10-27 01:39:16Z: Listening for Jobs\n",
      "2025-10-27 01:39:17Z: Running job: test\n",
      "Runner update in progress, do not shutdown runner.\n",
      "Downloading 2.329.0 runner\n",
      "[VM 1] Runner start command timed out (normal for background process)\n",
      "[VM 1] Starting shutdown monitor...\n",
      "[VM 1] Runner is running (PID: 859\n",
      "860\n",
      "943)\n",
      "[VM 1] Configuration complete - VM will auto-shutdown after job\n"
     ]
    },
    {
     "data": {
      "text/plain": [
       "1"
      ]
     },
     "execution_count": 5,
     "metadata": {},
     "output_type": "execute_result"
    }
   ],
   "source": [
    "vm_manager.start_vm()"
   ]
  },
  {
   "cell_type": "code",
   "execution_count": null,
   "id": "add766d2",
   "metadata": {},
   "outputs": [],
   "source": []
  }
 ],
 "metadata": {
  "kernelspec": {
   "display_name": "Python 3",
   "language": "python",
   "name": "python3"
  },
  "language_info": {
   "codemirror_mode": {
    "name": "ipython",
    "version": 3
   },
   "file_extension": ".py",
   "mimetype": "text/x-python",
   "name": "python",
   "nbconvert_exporter": "python",
   "pygments_lexer": "ipython3",
   "version": "3.12.3"
  }
 },
 "nbformat": 4,
 "nbformat_minor": 5
}
